{
 "cells": [
  {
   "cell_type": "code",
   "execution_count": 1,
   "metadata": {
    "collapsed": true
   },
   "outputs": [],
   "source": [
    "# ITCS 6162: Project - Pump It Up\n",
    "# Author: Aditya Gupta, Rekhansh Panchal\n",
    "# The project uses Python for data cleaning and visuals.\n",
    "# R is used for modelling and prediction of water pump functionalities."
   ]
  },
  {
   "cell_type": "code",
   "execution_count": 2,
   "metadata": {},
   "outputs": [
    {
     "name": "stderr",
     "output_type": "stream",
     "text": [
      "C:\\Users\\Rekhansh\\Miniconda3\\lib\\site-packages\\IPython\\html.py:14: ShimWarning:\n",
      "\n",
      "The `IPython.html` package has been deprecated since IPython 4.0. You should import from `notebook` instead. `IPython.html.widgets` has moved to `ipywidgets`.\n",
      "\n",
      "C:\\Users\\Rekhansh\\Miniconda3\\lib\\site-packages\\plotly\\widgets\\graph_widget.py:13: UserWarning:\n",
      "\n",
      "IPython.utils.traitlets has moved to a top-level traitlets package.\n",
      "\n"
     ]
    },
    {
     "data": {
      "application/javascript": [
       "window.genUID = function() {\n",
       "    return 'xxxxxxxx-xxxx-4xxx-yxxx-xxxxxxxxxxxx'.replace(/[xy]/g, function(c) {\n",
       "        var r = Math.random()*16|0, v = c == 'x' ? r : (r&0x3|0x8);\n",
       "        return v.toString(16);\n",
       "    });\n",
       "};\n",
       "\n",
       "var IPYTHON_VERSION = '3';\n",
       "\n",
       "require([\"widgets/js/widget\", \"widgets/js/manager\"], function (widget, manager) {\n",
       "    if (!('DOMWidgetView' in widget)) {\n",
       "\n",
       "        // we're in IPython2, things moved a bit from 2 --> 3.\n",
       "        // construct the expected IPython3 widget API\n",
       "        IPYTHON_VERSION = '2';\n",
       "        manager = {WidgetManager: widget};\n",
       "        widget = {DOMWidgetView: IPython.DOMWidgetView};\n",
       "    }\n",
       "\n",
       "    var GraphView = widget.DOMWidgetView.extend({\n",
       "        render: function(){\n",
       "            var that = this;\n",
       "\n",
       "            var graphId = window.genUID();\n",
       "            var loadingId = 'loading-'+graphId;\n",
       "\n",
       "\n",
       "            var _graph_url = that.model.get('_graph_url');\n",
       "\n",
       "            // variable plotlyDomain in the case of enterprise\n",
       "            var url_parts = _graph_url.split('/');\n",
       "            var plotlyDomain = url_parts[0] + '//' + url_parts[2];\n",
       "\n",
       "            if(!('plotlyDomains' in window)){\n",
       "                window.plotlyDomains = {};\n",
       "            }\n",
       "            window.plotlyDomains[graphId] = plotlyDomain;\n",
       "\n",
       "            // Place IFrame in output cell div `$el`\n",
       "            that.$el.css('width', '100%');\n",
       "            that.$graph = $(['<iframe id=\"'+graphId+'\"',\n",
       "                             'src=\"'+_graph_url+'.embed\"',\n",
       "                             'seamless',\n",
       "                             'style=\"border: none;\"',\n",
       "                             'width=\"100%\"',\n",
       "                             'height=\"600\">',\n",
       "                             '</iframe>'].join(' '));\n",
       "            that.$graph.appendTo(that.$el);\n",
       "\n",
       "            that.$loading = $('<div id=\"'+loadingId+'\">Initializing...</div>')\n",
       "                            .appendTo(that.$el);\n",
       "\n",
       "            // for some reason the 'width' is being changed in IPython 3.0.0\n",
       "            // for the containing `div` element. There's a flicker here, but\n",
       "            // I was unable to fix it otherwise.\n",
       "            setTimeout(function ()  {\n",
       "                if (IPYTHON_VERSION === '3') {\n",
       "                    $('#' + graphId)[0].parentElement.style.width = '100%';\n",
       "                }\n",
       "            }, 500);\n",
       "\n",
       "            // initialize communication with the iframe\n",
       "            if(!('pingers' in window)){\n",
       "                window.pingers = {};\n",
       "            }\n",
       "\n",
       "            window.pingers[graphId] = setInterval(function() {\n",
       "                that.graphContentWindow = $('#'+graphId)[0].contentWindow;\n",
       "                that.graphContentWindow.postMessage({task: 'ping'}, plotlyDomain);\n",
       "            }, 200);\n",
       "\n",
       "            // Assign a message listener to the 'message' events\n",
       "            // from iframe's postMessage protocol.\n",
       "            // Filter the messages by iframe src so that the right message\n",
       "            // gets passed to the right widget\n",
       "            if(!('messageListeners' in window)){\n",
       "                 window.messageListeners = {};\n",
       "            }\n",
       "\n",
       "            window.messageListeners[graphId] = function(e) {\n",
       "                if(_graph_url.indexOf(e.origin)>-1) {\n",
       "                    var frame = document.getElementById(graphId);\n",
       "\n",
       "                    if(frame === null){\n",
       "                        // frame doesn't exist in the dom anymore, clean up it's old event listener\n",
       "                        window.removeEventListener('message', window.messageListeners[graphId]);\n",
       "                        clearInterval(window.pingers[graphId]);\n",
       "                    } else if(frame.contentWindow === e.source) {\n",
       "                        // TODO: Stop event propagation, so each frame doesn't listen and filter\n",
       "                        var frameContentWindow = $('#'+graphId)[0].contentWindow;\n",
       "                        var message = e.data;\n",
       "\n",
       "                        if('pong' in message && message.pong) {\n",
       "                            $('#loading-'+graphId).hide();\n",
       "                            clearInterval(window.pingers[graphId]);\n",
       "                            that.send({event: 'pong', graphId: graphId});\n",
       "                        } else if (message.type==='hover' ||\n",
       "                                   message.type==='zoom'  ||\n",
       "                                   message.type==='click' ||\n",
       "                                   message.type==='unhover') {\n",
       "\n",
       "                            // click and hover events contain all of the data in the traces,\n",
       "                            // which can be a very large object and may take a ton of time\n",
       "                            // to pass to the python backend. Strip out the data, and require\n",
       "                            // the user to call get_figure if they need trace information\n",
       "                            if(message.type !== 'zoom') {\n",
       "                                for(var i in message.points) {\n",
       "                                    delete message.points[i].data;\n",
       "                                    delete message.points[i].fullData;\n",
       "                                }\n",
       "                            }\n",
       "                            that.send({event: message.type, message: message, graphId: graphId});\n",
       "                        } else if (message.task === 'getAttributes') {\n",
       "                            that.send({event: 'getAttributes', response: message.response});\n",
       "                        }\n",
       "                    }\n",
       "                }\n",
       "            };\n",
       "\n",
       "            window.removeEventListener('message', window.messageListeners[graphId]);\n",
       "            window.addEventListener('message', window.messageListeners[graphId]);\n",
       "\n",
       "        },\n",
       "\n",
       "        update: function() {\n",
       "            // Listen for messages from the graph widget in python\n",
       "            var jmessage = this.model.get('_message');\n",
       "            var message = JSON.parse(jmessage);\n",
       "\n",
       "            // check for duplicate messages\n",
       "            if(!('messageIds' in window)){\n",
       "                window.messageIds = {};\n",
       "            }\n",
       "\n",
       "            if(!(message.uid in window.messageIds)){\n",
       "                // message hasn't been received yet, do stuff\n",
       "                window.messageIds[message.uid] = true;\n",
       "\n",
       "                if (message.fadeTo) {\n",
       "                    this.fadeTo(message);\n",
       "                } else {\n",
       "                    var plot = $('#' + message.graphId)[0].contentWindow;\n",
       "                    plot.postMessage(message, window.plotlyDomains[message.graphId]);\n",
       "                }\n",
       "            }\n",
       "\n",
       "            return GraphView.__super__.update.apply(this);\n",
       "        },\n",
       "\n",
       "        /**\n",
       "         * Wrapper for jquery's `fadeTo` function.\n",
       "         *\n",
       "         * @param message Contains the id we need to find the element.\n",
       "         */\n",
       "        fadeTo: function (message) {\n",
       "            var plot = $('#' + message.graphId);\n",
       "            plot.fadeTo(message.duration, message.opacity);\n",
       "        }\n",
       "    });\n",
       "\n",
       "    // Register the GraphView with the widget manager.\n",
       "    manager.WidgetManager.register_widget_view('GraphView', GraphView);\n",
       "\n",
       "});\n",
       "\n",
       "//@ sourceURL=graphWidget.js\n"
      ],
      "text/plain": [
       "<IPython.core.display.Javascript object>"
      ]
     },
     "metadata": {},
     "output_type": "display_data"
    }
   ],
   "source": [
    "# Importing files\n",
    "import matplotlib.pyplot as plt;\n",
    "import pandas as pd;\n",
    "import numpy as np;\n",
    "import ipywidgets as wg;\n",
    "import plotly.plotly as py;\n",
    "from plotly.graph_objs import *\n",
    "from plotly.widgets import GraphWidget\n",
    "from __future__ import print_function;\n",
    "from ipywidgets import interact, interactive, fixed, interact_manual;\n",
    "from IPython.display import display, clear_output, Image\n",
    "from sklearn.ensemble import RandomForestClassifier\n",
    "%matplotlib inline"
   ]
  },
  {
   "cell_type": "code",
   "execution_count": 3,
   "metadata": {
    "collapsed": true
   },
   "outputs": [],
   "source": [
    "valueLocation = r\"C:\\Users\\Rekhansh\\Documents\\Python Scripts\\training_set_values.csv\"\n",
    "labelLocation = r\"C:\\Users\\Rekhansh\\Documents\\Python Scripts\\training_set_label.csv\"\n",
    "\n",
    "# Load data.\n",
    "df = pd.read_csv(valueLocation)\n",
    "labels = pd.read_csv(labelLocation)\n",
    "\n",
    "# Merge data and labels together in one dataframe.\n",
    "df = pd.merge(df, labels, on='id')\n",
    "dfOld = df.copy(deep = True)\n",
    "del labels"
   ]
  },
  {
   "cell_type": "code",
   "execution_count": 4,
   "metadata": {},
   "outputs": [
    {
     "data": {
      "text/plain": [
       "(59400, 41)"
      ]
     },
     "execution_count": 4,
     "metadata": {},
     "output_type": "execute_result"
    }
   ],
   "source": [
    "# Understanding the data quantity\n",
    "df.shape"
   ]
  },
  {
   "cell_type": "code",
   "execution_count": 5,
   "metadata": {},
   "outputs": [
    {
     "data": {
      "text/plain": [
       "id                           0\n",
       "amount_tsh                   0\n",
       "date_recorded                0\n",
       "funder                    3635\n",
       "gps_height                   0\n",
       "installer                 3655\n",
       "longitude                    0\n",
       "latitude                     0\n",
       "wpt_name                     0\n",
       "num_private                  0\n",
       "basin                        0\n",
       "subvillage                 371\n",
       "region                       0\n",
       "region_code                  0\n",
       "district_code                0\n",
       "lga                          0\n",
       "ward                         0\n",
       "population                   0\n",
       "public_meeting            3334\n",
       "recorded_by                  0\n",
       "scheme_management         3877\n",
       "scheme_name              28166\n",
       "permit                    3056\n",
       "construction_year            0\n",
       "extraction_type              0\n",
       "extraction_type_group        0\n",
       "extraction_type_class        0\n",
       "management                   0\n",
       "management_group             0\n",
       "payment                      0\n",
       "payment_type                 0\n",
       "water_quality                0\n",
       "quality_group                0\n",
       "quantity                     0\n",
       "quantity_group               0\n",
       "source                       0\n",
       "source_type                  0\n",
       "source_class                 0\n",
       "waterpoint_type              0\n",
       "waterpoint_type_group        0\n",
       "status_group                 0\n",
       "dtype: int64"
      ]
     },
     "execution_count": 5,
     "metadata": {},
     "output_type": "execute_result"
    }
   ],
   "source": [
    "# The Training Data includes 59400 rows with 41 columns on individial entities.\n",
    "# Now, we'll check for any missing values and find their count.\n",
    "df.apply(lambda x: sum(x.isnull()))"
   ]
  },
  {
   "cell_type": "code",
   "execution_count": 6,
   "metadata": {},
   "outputs": [
    {
     "data": {
      "text/plain": [
       "Government Of Tanzania       9084\n",
       "Danida                       3114\n",
       "Hesawa                       2202\n",
       "Rwssp                        1374\n",
       "World Bank                   1349\n",
       "Kkkt                         1287\n",
       "World Vision                 1246\n",
       "Unicef                       1057\n",
       "Tasaf                         877\n",
       "District Council              843\n",
       "Dhv                           829\n",
       "Private Individual            826\n",
       "Dwsp                          811\n",
       "0                             777\n",
       "Norad                         765\n",
       "Germany Republi               610\n",
       "Tcrs                          602\n",
       "Ministry Of Water             590\n",
       "Water                         583\n",
       "Dwe                           484\n",
       "Netherlands                   470\n",
       "Hifab                         450\n",
       "Adb                           448\n",
       "Lga                           442\n",
       "Amref                         425\n",
       "Fini Water                    393\n",
       "Oxfam                         359\n",
       "Wateraid                      333\n",
       "Rc Church                     321\n",
       "Isf                           316\n",
       "                             ... \n",
       "Water /sema                     1\n",
       "Bakari Chimkube                 1\n",
       "Subvillage                      1\n",
       "Makundya                        1\n",
       "Mamvua Kakungu                  1\n",
       "Carmatech                       1\n",
       "Samwel                          1\n",
       "Rc Njoro                        1\n",
       "Villlage Contributi             1\n",
       "Africa Project Ev Germany       1\n",
       "Vgovernment                     1\n",
       "Kurrp                           1\n",
       "Villege Council                 1\n",
       "Jacobin                         1\n",
       "Kondo Primary                   1\n",
       "Nyamingu Subvillage             1\n",
       "Prince Medium School            1\n",
       "Seleman Rashid                  1\n",
       "Msiki                           1\n",
       "Jamal Abdallah                  1\n",
       "Meru Concrete                   1\n",
       "Primo Zunda                     1\n",
       "Tajiri Jumbe Lila               1\n",
       "Dmd                             1\n",
       "Ahmadia                         1\n",
       "Sumriy                          1\n",
       "Taipo                           1\n",
       "Kdpa                            1\n",
       "Ded_rwsp                        1\n",
       "Tabea                           1\n",
       "Name: funder, dtype: int64"
      ]
     },
     "execution_count": 6,
     "metadata": {},
     "output_type": "execute_result"
    }
   ],
   "source": [
    "# We can see few columns contain null values. Hence, we need to fix them before beginning any sort of Analysis on the data.\n",
    "\n",
    "# Starting with value \"funder\"\n",
    "df.funder.value_counts()"
   ]
  },
  {
   "cell_type": "code",
   "execution_count": 7,
   "metadata": {
    "collapsed": true
   },
   "outputs": [],
   "source": [
    "# Creating a function to categorize:\n",
    "# Keep high frequency values and replace low frequency values with new category \"other\"\n",
    "def wrangler_function(row,colName,highFrequencyEntity):  \n",
    "    if row[colName] in highFrequencyEntity:\n",
    "        return row[colName]\n",
    "    else:\n",
    "        return 'other'"
   ]
  },
  {
   "cell_type": "code",
   "execution_count": 8,
   "metadata": {},
   "outputs": [
    {
     "data": {
      "text/plain": [
       "other                     38687\n",
       "Government Of Tanzania     9084\n",
       "Danida                     3114\n",
       "Hesawa                     2202\n",
       "Rwssp                      1374\n",
       "World Bank                 1349\n",
       "Kkkt                       1287\n",
       "World Vision               1246\n",
       "Unicef                     1057\n",
       "Name: funder, dtype: int64"
      ]
     },
     "execution_count": 8,
     "metadata": {},
     "output_type": "execute_result"
    }
   ],
   "source": [
    "# Categorizing funder variable\n",
    "highFrequencyEntity = ('Government Of Tanzania','Danida','Hesawa','Rwssp','World Bank','Kkkt','World Vision','Unicef')        \n",
    "df['funder'] = df.apply(lambda row: wrangler_function(row,'funder',highFrequencyEntity), axis=1)\n",
    "df.funder.value_counts()"
   ]
  },
  {
   "cell_type": "code",
   "execution_count": 11,
   "metadata": {},
   "outputs": [
    {
     "data": {
      "text/plain": [
       "other         36179\n",
       "DWE           17402\n",
       "Government     1825\n",
       "RWE            1206\n",
       "DANIDA         1050\n",
       "KKKT            898\n",
       "Hesawa          840\n",
       "Name: installer, dtype: int64"
      ]
     },
     "execution_count": 11,
     "metadata": {},
     "output_type": "execute_result"
    }
   ],
   "source": [
    "# Exploring \"installer\" variable\n",
    "df.installer.value_counts()"
   ]
  },
  {
   "cell_type": "code",
   "execution_count": 12,
   "metadata": {},
   "outputs": [
    {
     "data": {
      "text/plain": [
       "other         36179\n",
       "DWE           17402\n",
       "Government     1825\n",
       "RWE            1206\n",
       "DANIDA         1050\n",
       "KKKT            898\n",
       "Hesawa          840\n",
       "Name: installer, dtype: int64"
      ]
     },
     "execution_count": 12,
     "metadata": {},
     "output_type": "execute_result"
    }
   ],
   "source": [
    "# Categorizing installer variable\n",
    "highFrequencyEntity = ('DWE','Government','RWE','DANIDA','KKKT','Hesawa')        \n",
    "df['installer'] = df.apply(lambda row: wrangler_function(row,'installer',highFrequencyEntity), axis=1)\n",
    "df.installer.value_counts()"
   ]
  },
  {
   "cell_type": "code",
   "execution_count": 13,
   "metadata": {},
   "outputs": [
    {
     "name": "stdout",
     "output_type": "stream",
     "text": [
      "Number of Sub-villages:  19287\n"
     ]
    }
   ],
   "source": [
    "# Checking number of unique values to categorize subvillage\n",
    "print('Number of Sub-villages: ', len(df.subvillage.value_counts()))"
   ]
  },
  {
   "cell_type": "code",
   "execution_count": 14,
   "metadata": {
    "collapsed": true
   },
   "outputs": [],
   "source": [
    "# As there are so many unique values, high frequency values will not be able to dominate other variables. \n",
    "# Hence, it is advisable to remove the column from dataset.\n",
    "df = df.drop('subvillage', axis=1)"
   ]
  },
  {
   "cell_type": "code",
   "execution_count": 15,
   "metadata": {},
   "outputs": [
    {
     "data": {
      "text/plain": [
       "True     51011\n",
       "False     5055\n",
       "Name: public_meeting, dtype: int64"
      ]
     },
     "execution_count": 15,
     "metadata": {},
     "output_type": "execute_result"
    }
   ],
   "source": [
    "# Checking \"public_meeting\" variable\n",
    "df.public_meeting.value_counts()"
   ]
  },
  {
   "cell_type": "code",
   "execution_count": 16,
   "metadata": {
    "collapsed": true
   },
   "outputs": [],
   "source": [
    "# But, total values are 59400. Hence, there are missing values. Filling those values with 'Unknown'\n",
    "# Number of missing values ~ 2000. Replacing them by mode value.\n",
    "df.public_meeting = df.public_meeting.fillna('TRUE')"
   ]
  },
  {
   "cell_type": "code",
   "execution_count": 17,
   "metadata": {},
   "outputs": [
    {
     "name": "stdout",
     "output_type": "stream",
     "text": [
      "12\n"
     ]
    },
    {
     "data": {
      "text/plain": [
       "VWC                 36793\n",
       "WUG                  5206\n",
       "Water authority      3153\n",
       "WUA                  2883\n",
       "Water Board          2748\n",
       "Parastatal           1680\n",
       "Private operator     1063\n",
       "Company              1061\n",
       "Other                 766\n",
       "SWC                    97\n",
       "Trust                  72\n",
       "None                    1\n",
       "Name: scheme_management, dtype: int64"
      ]
     },
     "execution_count": 17,
     "metadata": {},
     "output_type": "execute_result"
    }
   ],
   "source": [
    "# Checking \"scheme_management\" variable\n",
    "print(len(df.scheme_management.value_counts()))\n",
    "df.scheme_management.value_counts()"
   ]
  },
  {
   "cell_type": "code",
   "execution_count": 18,
   "metadata": {},
   "outputs": [
    {
     "data": {
      "text/plain": [
       "VWC                36793\n",
       "other               5876\n",
       "WUG                 5206\n",
       "Water authority     3153\n",
       "WUA                 2883\n",
       "Water Board         2748\n",
       "Parastatal          1680\n",
       "Company             1061\n",
       "Name: scheme_management, dtype: int64"
      ]
     },
     "execution_count": 18,
     "metadata": {},
     "output_type": "execute_result"
    }
   ],
   "source": [
    "# Since ther 'scheme_management' variable includes high frequency and few low as well. We'll categorize it.\n",
    "highFrequencyEntity = ('VWC','WUG','Water authority','WUA','Water Board','Parastatal','Private Operator','Company')        \n",
    "df['scheme_management'] = df.apply(lambda row: wrangler_function(row,'scheme_management',highFrequencyEntity), axis=1)\n",
    "df.scheme_management.value_counts()"
   ]
  },
  {
   "cell_type": "code",
   "execution_count": 19,
   "metadata": {},
   "outputs": [
    {
     "data": {
      "text/plain": [
       "array(['GeoData Consultants Ltd'], dtype=object)"
      ]
     },
     "execution_count": 19,
     "metadata": {},
     "output_type": "execute_result"
    }
   ],
   "source": [
    "# Checking the unique values for recorded_by column.\n",
    "df['recorded_by'].unique()"
   ]
  },
  {
   "cell_type": "code",
   "execution_count": 20,
   "metadata": {},
   "outputs": [
    {
     "data": {
      "text/plain": [
       "41639"
      ]
     },
     "execution_count": 20,
     "metadata": {},
     "output_type": "execute_result"
    }
   ],
   "source": [
    "# Calculating the number of entries where amount_tsh is zero.\n",
    "len(df[df.amount_tsh==0])"
   ]
  },
  {
   "cell_type": "code",
   "execution_count": 21,
   "metadata": {
    "collapsed": true
   },
   "outputs": [],
   "source": [
    "# Dropping the amount_tsh column.\n",
    "df.drop('amount_tsh', axis=1, inplace=True)"
   ]
  },
  {
   "cell_type": "code",
   "execution_count": 22,
   "metadata": {
    "collapsed": true
   },
   "outputs": [],
   "source": [
    "# Dropping the recorded_by column as it has only one value filled in our data.\n",
    "df.drop('recorded_by', axis=1, inplace=True)"
   ]
  },
  {
   "cell_type": "code",
   "execution_count": 23,
   "metadata": {
    "collapsed": true
   },
   "outputs": [],
   "source": [
    "# Calculating the number of entries where amount_tsh is zero.\n",
    "len(df[df.permit==0])\n",
    "# Replacing by mode.\n",
    "df.permit = df.permit.fillna('True')"
   ]
  },
  {
   "cell_type": "code",
   "execution_count": 24,
   "metadata": {
    "collapsed": true
   },
   "outputs": [],
   "source": [
    "# Removing scheme_name as there are too many different scheme types.\n",
    "df.drop('scheme_name', axis=1, inplace=True)"
   ]
  },
  {
   "cell_type": "code",
   "execution_count": 25,
   "metadata": {},
   "outputs": [
    {
     "data": {
      "text/plain": [
       "vwc                 40507\n",
       "wug                  6515\n",
       "other                3171\n",
       "water board          2933\n",
       "wua                  2535\n",
       "private operator     1971\n",
       "parastatal           1768\n",
       "Name: management, dtype: int64"
      ]
     },
     "execution_count": 25,
     "metadata": {},
     "output_type": "execute_result"
    }
   ],
   "source": [
    "# Since ther 'scheme_management' variable includes high frequency and few low as well. We'll categorize it.\n",
    "highFrequencyEntity = ('vwc', 'wug', 'water board', 'wua', 'private operator','parastatal')        \n",
    "df['management'] = df.apply(lambda row: wrangler_function(row,'management',highFrequencyEntity), axis=1)\n",
    "df.management.value_counts()"
   ]
  },
  {
   "cell_type": "code",
   "execution_count": 26,
   "metadata": {
    "collapsed": true
   },
   "outputs": [],
   "source": [
    "# Also, we need to streamline the similar variables by removing one of them.\n",
    "# As, those variables are highly correlated.\n",
    "\n",
    "# Choosing one from payment and payment type.\n",
    "df.drop('payment', axis=1, inplace=True)\n",
    "\n",
    "# Choosing one from water_quality and quality group.\n",
    "df.drop('quality_group', axis=1, inplace=True)\n",
    "\n",
    "# Choosing one from quantity and quantity group.\n",
    "df.drop('quantity_group', axis=1, inplace=True)\n",
    "\n",
    "# Choosing one from waterpoint_type and waterpoint_type_group.\n",
    "df.drop('waterpoint_type_group', axis=1, inplace=True)\n",
    "\n",
    "# Choosing one from source_class, source_type, and source.\n",
    "df.drop('source', axis=1, inplace=True)\n",
    "df.drop('source_class', axis=1, inplace=True)\n",
    "\n",
    "# Choosing one from extraction_type, extraction_type_group, and extraction_type_class.\n",
    "df.drop('extraction_type', axis=1, inplace=True)\n",
    "df.drop('extraction_type_group', axis=1, inplace=True)\n",
    "\n",
    "# Choosing one from management_group and management.\n",
    "df.drop('management_group', axis=1, inplace=True)\n",
    "\n",
    "# Removing column 'num_private' as majority of the values are zero.\n",
    "df.drop('num_private', axis=1, inplace=True)\n",
    "\n",
    "# Removing location related variables and other variables.\n",
    "df = df.drop(['lga', 'longitude', 'latitude', 'region_code', 'district_code','ward','id','wpt_name','gps_height','date_recorded'], axis=1)\n",
    " \n",
    "# Removing column 'population' as majority of the values are zero.\n",
    "df.drop('population', axis=1, inplace=True)"
   ]
  },
  {
   "cell_type": "code",
   "execution_count": 27,
   "metadata": {
    "collapsed": true
   },
   "outputs": [],
   "source": [
    "# Now, construction year could play a major role in prediction.\n",
    "# However, there are about 20000 values which are \"0\".\n",
    "# So, we'll remove those entries.\n",
    "df = df[df.construction_year != 0]\n",
    "df.construction_year.value_counts()\n",
    "yearMax = df.construction_year.max()\n",
    "df.construction_year = yearMax - df.construction_year"
   ]
  },
  {
   "cell_type": "code",
   "execution_count": 28,
   "metadata": {
    "collapsed": true
   },
   "outputs": [],
   "source": [
    "#vals_to_replace = {'functional':2, 'functional needs repair':1,'non functional':0}\n",
    "\n",
    "#df['status_group']  = df.status_group.replace(vals_to_replace)"
   ]
  },
  {
   "cell_type": "code",
   "execution_count": 29,
   "metadata": {},
   "outputs": [
    {
     "data": {
      "text/plain": [
       "funder                   0\n",
       "installer                0\n",
       "basin                    0\n",
       "region                   0\n",
       "public_meeting           0\n",
       "scheme_management        0\n",
       "permit                   0\n",
       "construction_year        0\n",
       "extraction_type_class    0\n",
       "management               0\n",
       "payment_type             0\n",
       "water_quality            0\n",
       "quantity                 0\n",
       "source_type              0\n",
       "waterpoint_type          0\n",
       "status_group             0\n",
       "dtype: int64"
      ]
     },
     "execution_count": 29,
     "metadata": {},
     "output_type": "execute_result"
    }
   ],
   "source": [
    "# Checking for null values, if any are remaining.\n",
    "df.apply(lambda x: sum(x.isnull()))"
   ]
  },
  {
   "cell_type": "code",
   "execution_count": 30,
   "metadata": {},
   "outputs": [
    {
     "data": {
      "text/plain": [
       "funder                    9\n",
       "installer                 7\n",
       "basin                     9\n",
       "region                   17\n",
       "public_meeting            3\n",
       "scheme_management         8\n",
       "permit                    3\n",
       "extraction_type_class     7\n",
       "management                7\n",
       "payment_type              7\n",
       "water_quality             8\n",
       "quantity                  5\n",
       "source_type               7\n",
       "waterpoint_type           7\n",
       "status_group              3\n",
       "dtype: int64"
      ]
     },
     "execution_count": 30,
     "metadata": {},
     "output_type": "execute_result"
    }
   ],
   "source": [
    "# As seen from above output, nulls and similar variables are removed.\n",
    "# Now, we need to remove variables which have high frequency of unique values. As, these variables may not help in prediction.\n",
    "\n",
    "str_cols = df.select_dtypes(include = ['object'])\n",
    "str_cols.apply(lambda x: len(x.unique()))"
   ]
  },
  {
   "cell_type": "code",
   "execution_count": 31,
   "metadata": {},
   "outputs": [
    {
     "data": {
      "application/vnd.jupyter.widget-view+json": {
       "model_id": "77c300744fe640ee8fea072d92ba86d0"
      }
     },
     "metadata": {},
     "output_type": "display_data"
    }
   ],
   "source": [
    "t = [\"status_group\", \"funder\", \"installer\", \"basin\", \"region\", \"public_meeting\", \"scheme_management\", \"permit\", \"construction_year\", \"extraction_type_class\", \"management\", \"payment_type\", \"water_quality\", \"quantity\", \"source_type\", \"waterpoint_type\"]\n",
    "w = wg.Select(options = t,value=\"status_group\",description=\"Select Variable to visualize\",)\n",
    "def on_change(change):\n",
    "    if change[\"type\"] == \"change\" and change[\"name\"] == \"value\":\n",
    "        fig, axs = plt.subplots(1,2)\n",
    "        a = change[\"new\"]\n",
    "        dfOld[a].value_counts().plot(ax=axs[0],kind='bar')\n",
    "        df[a].value_counts().plot(ax=axs[1],kind='bar')\n",
    "w.observe(on_change)\n",
    "display(w)"
   ]
  },
  {
   "cell_type": "code",
   "execution_count": 32,
   "metadata": {
    "collapsed": true
   },
   "outputs": [],
   "source": [
    "#Now, we have successfully cleaned the data. And will model the data.\n",
    "df.to_csv(r'C:\\Users\\Rekhansh\\Documents\\Python Scripts\\cleanedTraining.csv', index=False)"
   ]
  },
  {
   "cell_type": "code",
   "execution_count": 1,
   "metadata": {},
   "outputs": [
    {
     "name": "stderr",
     "output_type": "stream",
     "text": [
      "randomForest 4.6-12\n",
      "Type rfNews() to see new features/changes/bug fixes.\n",
      "Warning message:\n",
      "\"package 'ggplot2' was built under R version 3.3.3\"\n",
      "Attaching package: 'ggplot2'\n",
      "\n",
      "The following object is masked from 'package:randomForest':\n",
      "\n",
      "    margin\n",
      "\n"
     ]
    }
   ],
   "source": [
    "#-----------------------------------R Code starts here--------------------------------------------------\n",
    "\n",
    "library(randomForest)\n",
    "library(ggplot2)\n",
    "setwd(\"C:\\\\Users\\\\Rekhansh\\\\Documents\\\\Python Scripts\")\n",
    "training <- read.csv(file =\"cleanedTraining.csv\")"
   ]
  },
  {
   "cell_type": "code",
   "execution_count": 2,
   "metadata": {},
   "outputs": [
    {
     "data": {},
     "metadata": {},
     "output_type": "display_data"
    },
    {
     "data": {
      "image/png": "[encoded data removed]",
      "text/plain": [
       "plot without title"
      ]
     },
     "metadata": {},
     "output_type": "display_data"
    }
   ],
   "source": [
    "# Creating color scale\n",
    "color_label <- c(\"#4CAF50\", \"#2196F3\", \"#F44336\")\n",
    "# Representing water points by number of years passed.\n",
    "ggplot(subset(training, construction_year >= 0),\n",
    "    aes(x = construction_year, fill = status_group)) + \n",
    "    geom_bar() +\n",
    "    xlab(\"Years Elapsed\")  +\n",
    "    ylab(\"Number of waterpoints\") +\n",
    "    labs(fill = \"Status of waterpoint\") +\n",
    "    scale_fill_manual(values=color_label)"
   ]
  },
  {
   "cell_type": "code",
   "execution_count": null,
   "metadata": {
    "collapsed": true
   },
   "outputs": [],
   "source": [
    "set.seed(123)\n",
    "training$status_group = factor(training$status_group)"
   ]
  },
  {
   "cell_type": "code",
   "execution_count": null,
   "metadata": {
    "collapsed": true
   },
   "outputs": [],
   "source": [
    "ind<-sample(2,nrow(training),replace=TRUE,prob=c(0.80,0.20))\n",
    "training_data<-training[ind==1,]\n",
    "test_data<-training[ind==2,]"
   ]
  },
  {
   "cell_type": "code",
   "execution_count": null,
   "metadata": {
    "collapsed": true
   },
   "outputs": [],
   "source": [
    "model_forest <- randomForest(status_group ~ \n",
    "                             funder + \n",
    "                             installer + \n",
    "                             basin + \n",
    "                             region + \n",
    "                             quantity + \n",
    "                             public_meeting + \n",
    "                             scheme_management+\n",
    "                             permit+\n",
    "                             construction_year+\n",
    "                             extraction_type_class+\n",
    "                             management+\n",
    "                             payment_type+\n",
    "                             water_quality+\n",
    "                             quantity+\n",
    "                             source_type+\n",
    "                             waterpoint_type, \n",
    "                             data = training, \n",
    "                             importance = TRUE,\n",
    "                             ntree = 100,\n",
    "                             nodesize = 2)"
   ]
  },
  {
   "cell_type": "code",
   "execution_count": null,
   "metadata": {
    "collapsed": true
   },
   "outputs": [],
   "source": [
    "# Predict the values in training using the random forest model \n",
    "pred_forest_training <- predict(model_forest, test_data)"
   ]
  },
  {
   "cell_type": "code",
   "execution_count": null,
   "metadata": {
    "collapsed": true
   },
   "outputs": [],
   "source": [
    "# Observe the first few predictions rows\n",
    "head(pred_forest_training)\n",
    "str(pred_forest_training)"
   ]
  },
  {
   "cell_type": "code",
   "execution_count": null,
   "metadata": {
    "collapsed": true
   },
   "outputs": [],
   "source": [
    "# Creating a confusion matrix to evaluate the model (compare the predicted labels to the actual labels)\n",
    "cm <- table(pred_forest_training, test_data$status_group)\n",
    "cm\n",
    "\n",
    "# Calculate accuracy\n",
    "round(sum(diag(cm))/sum(cm), 4)"
   ]
  },
  {
   "cell_type": "code",
   "execution_count": null,
   "metadata": {
    "collapsed": true
   },
   "outputs": [],
   "source": [
    "# Can evaluate the model with more statistics calculated automatically\n",
    "library(caret)\n",
    "confusionMatrix(pred_forest_training, test_data$status_group)"
   ]
  },
  {
   "cell_type": "code",
   "execution_count": null,
   "metadata": {
    "collapsed": true
   },
   "outputs": [],
   "source": [
    "# Evaluating the importance of each variable\n",
    "importance(model_forest)\n",
    "varImpPlot(model_forest)"
   ]
  },
  {
   "cell_type": "code",
   "execution_count": null,
   "metadata": {
    "collapsed": true
   },
   "outputs": [],
   "source": [
    "#Thank you!"
   ]
  },
  {
   "cell_type": "code",
   "execution_count": null,
   "metadata": {
    "collapsed": true
   },
   "outputs": [],
   "source": []
  }
 ],
 "metadata": {
  "kernelspec": {
   "display_name": "R",
   "language": "R",
   "name": "ir"
  },
  "language_info": {
   "codemirror_mode": "r",
   "file_extension": ".r",
   "mimetype": "text/x-r-source",
   "name": "R",
   "pygments_lexer": "r",
   "version": "3.3.2"
  },
  "widgets": {
   "application/vnd.jupyter.widget-state+json": {
    "state": {
     "0c42ca19737c4a5ea42cf80cb55c545a": {
      "model_module": "jupyter-js-widgets",
      "model_module_version": "~2.1.4",
      "model_name": "SelectModel",
      "state": {
       "_model_module_version": "~2.1.4",
       "_options_labels": [
        "status_group",
        "funder",
        "installer",
        "basin",
        "region",
        "public_meeting",
        "scheme_management",
        "permit",
        "construction_year",
        "extraction_type_class",
        "management",
        "payment_type",
        "water_quality",
        "quantity",
        "source_type",
        "waterpoint_type"
       ],
       "_view_module_version": "~2.1.4",
       "description": "Task:",
       "layout": "IPY_MODEL_b31e37b7fd1b421ba3b65ca6e44d0311",
       "value": "funder"
      }
     },
     "0e6d108eb1a84a079a67fdaca0cfd11a": {
      "model_module": "jupyter-js-widgets",
      "model_module_version": "~2.1.4",
      "model_name": "LayoutModel",
      "state": {
       "_model_module_version": "~2.1.4",
       "_view_module_version": "~2.1.4"
      }
     },
     "0f26ef2018e74533acf8959b901e162c": {
      "model_module": "jupyter-js-widgets",
      "model_module_version": "~2.1.4",
      "model_name": "LayoutModel",
      "state": {
       "_model_module_version": "~2.1.4",
       "_view_module_version": "~2.1.4"
      }
     },
     "1d62daad664d4169b7bff336f721a7d3": {
      "model_module": "jupyter-js-widgets",
      "model_module_version": "~2.1.4",
      "model_name": "DropdownModel",
      "state": {
       "_model_module_version": "~2.1.4",
       "_options_labels": [
        "status_group",
        "funder",
        "installer",
        "basin",
        "region",
        "quantity",
        "public_meeting",
        "scheme_management",
        "permit",
        "construction_year",
        "extraction_type_class",
        "management",
        "payment_type",
        "water_quality",
        "quantity",
        "source_type",
        "waterpoint_type"
       ],
       "_view_module_version": "~2.1.4",
       "description": "Task:",
       "layout": "IPY_MODEL_fb3eba913a024f6b99c032127969c3ac",
       "value": "quantity"
      }
     },
     "22a9e3c7ba5a436f906b9a163bc13dc5": {
      "model_module": "jupyter-js-widgets",
      "model_module_version": "~2.1.4",
      "model_name": "LayoutModel",
      "state": {
       "_model_module_version": "~2.1.4",
       "_view_module_version": "~2.1.4"
      }
     },
     "35ee3fb74ed34be7b769e712e4b14b26": {
      "model_module": "jupyter-js-widgets",
      "model_module_version": "~2.1.4",
      "model_name": "LayoutModel",
      "state": {
       "_model_module_version": "~2.1.4",
       "_view_module_version": "~2.1.4"
      }
     },
     "3ceaee694ef7457da856f80d267a56e5": {
      "model_module": "jupyter-js-widgets",
      "model_module_version": "~2.1.4",
      "model_name": "SelectModel",
      "state": {
       "_model_module_version": "~2.1.4",
       "_options_labels": [
        "status_group",
        "funder",
        "installer",
        "basin",
        "region",
        "public_meeting",
        "scheme_management",
        "permit",
        "construction_year",
        "extraction_type_class",
        "management",
        "payment_type",
        "water_quality",
        "quantity",
        "source_type",
        "waterpoint_type"
       ],
       "_view_module_version": "~2.1.4",
       "description": "Task:",
       "layout": "IPY_MODEL_0f26ef2018e74533acf8959b901e162c",
       "value": "construction_year"
      }
     },
     "5bd225e174a74b5cad197f27d10e9aa4": {
      "model_module": "jupyter-js-widgets",
      "model_module_version": "~2.1.4",
      "model_name": "LayoutModel",
      "state": {
       "_model_module_version": "~2.1.4",
       "_view_module_version": "~2.1.4"
      }
     },
     "5daf6537d2854125a9886613f67bdcfd": {
      "model_module": "jupyter-js-widgets",
      "model_module_version": "~2.1.4",
      "model_name": "SelectModel",
      "state": {
       "_model_module_version": "~2.1.4",
       "_options_labels": [
        "status_group",
        "funder",
        "installer",
        "basin",
        "region",
        "public_meeting",
        "scheme_management",
        "permit",
        "construction_year",
        "extraction_type_class",
        "management",
        "payment_type",
        "water_quality",
        "quantity",
        "source_type",
        "waterpoint_type"
       ],
       "_view_module_version": "~2.1.4",
       "description": "Task:",
       "layout": "IPY_MODEL_65a7a6b3b30d4269811b74ce1d88ab06",
       "value": "status_group"
      }
     },
     "5ed8d99d236640558d58074dd56448bb": {
      "model_module": "jupyter-js-widgets",
      "model_module_version": "~2.1.4",
      "model_name": "SelectModel",
      "state": {
       "_model_module_version": "~2.1.4",
       "_options_labels": [
        "status_group",
        "funder",
        "installer",
        "basin",
        "region",
        "public_meeting",
        "scheme_management",
        "permit",
        "construction_year",
        "extraction_type_class",
        "management",
        "payment_type",
        "water_quality",
        "quantity",
        "source_type",
        "waterpoint_type"
       ],
       "_view_module_version": "~2.1.4",
       "description": "Task:",
       "layout": "IPY_MODEL_709a3e1e3fa646daa27e8306cf72a5c7",
       "value": "status_group"
      }
     },
     "65a7a6b3b30d4269811b74ce1d88ab06": {
      "model_module": "jupyter-js-widgets",
      "model_module_version": "~2.1.4",
      "model_name": "LayoutModel",
      "state": {
       "_model_module_version": "~2.1.4",
       "_view_module_version": "~2.1.4"
      }
     },
     "68c9bca729ee4225a0738a7d6c7c0d75": {
      "model_module": "jupyter-js-widgets",
      "model_module_version": "~2.1.4",
      "model_name": "DropdownModel",
      "state": {
       "_model_module_version": "~2.1.4",
       "_options_labels": [
        "status_group",
        "funder",
        "installer",
        "basin",
        "region",
        "quantity",
        "public_meeting",
        "scheme_management",
        "permit",
        "construction_year",
        "extraction_type_class",
        "management",
        "payment_type",
        "water_quality",
        "quantity",
        "source_type",
        "waterpoint_type"
       ],
       "_view_module_version": "~2.1.4",
       "description": "Task:",
       "layout": "IPY_MODEL_9b91272b6b1548579ae6a77f8bdbe352",
       "value": "management"
      }
     },
     "6982b8ea1404427c95fea75c9569b623": {
      "model_module": "jupyter-js-widgets",
      "model_module_version": "~2.1.4",
      "model_name": "SelectModel",
      "state": {
       "_model_module_version": "~2.1.4",
       "_options_labels": [
        "status_group",
        "funder",
        "installer",
        "basin",
        "region",
        "public_meeting",
        "scheme_management",
        "permit",
        "construction_year",
        "extraction_type_class",
        "management",
        "payment_type",
        "water_quality",
        "quantity",
        "source_type",
        "waterpoint_type"
       ],
       "_view_module_version": "~2.1.4",
       "description": "Task:",
       "layout": "IPY_MODEL_35ee3fb74ed34be7b769e712e4b14b26",
       "value": "construction_year"
      }
     },
     "709a3e1e3fa646daa27e8306cf72a5c7": {
      "model_module": "jupyter-js-widgets",
      "model_module_version": "~2.1.4",
      "model_name": "LayoutModel",
      "state": {
       "_model_module_version": "~2.1.4",
       "_view_module_version": "~2.1.4"
      }
     },
     "7d2350b4517442f8b31b9da2603fe14c": {
      "model_module": "jupyter-js-widgets",
      "model_module_version": "~2.1.4",
      "model_name": "DropdownModel",
      "state": {
       "_model_module_version": "~2.1.4",
       "_options_labels": [
        "status_group",
        "funder",
        "installer",
        "basin",
        "region",
        "public_meeting",
        "scheme_management",
        "permit",
        "construction_year",
        "extraction_type_class",
        "management",
        "payment_type",
        "water_quality",
        "quantity",
        "source_type",
        "waterpoint_type"
       ],
       "_view_module_version": "~2.1.4",
       "description": "Task:",
       "layout": "IPY_MODEL_9357d658bf76475bb2311e6ad8dd9410",
       "value": "installer"
      }
     },
     "8445b5f011424997a201e1526fb6fe22": {
      "model_module": "jupyter-js-widgets",
      "model_module_version": "~2.1.4",
      "model_name": "LayoutModel",
      "state": {
       "_model_module_version": "~2.1.4",
       "_view_module_version": "~2.1.4"
      }
     },
     "90bca9533a5545578a9826e9382865b5": {
      "model_module": "jupyter-js-widgets",
      "model_module_version": "~2.1.4",
      "model_name": "SelectModel",
      "state": {
       "_model_module_version": "~2.1.4",
       "_options_labels": [
        "status_group",
        "funder",
        "installer",
        "basin",
        "region",
        "public_meeting",
        "scheme_management",
        "permit",
        "construction_year",
        "extraction_type_class",
        "management",
        "payment_type",
        "water_quality",
        "quantity",
        "source_type",
        "waterpoint_type"
       ],
       "_view_module_version": "~2.1.4",
       "description": "Task:",
       "layout": "IPY_MODEL_22a9e3c7ba5a436f906b9a163bc13dc5",
       "value": "construction_year"
      }
     },
     "921c7ab8f1d34923b597f4caa5950afe": {
      "model_module": "jupyter-js-widgets",
      "model_module_version": "~2.1.4",
      "model_name": "SelectModel",
      "state": {
       "_model_module_version": "~2.1.4",
       "_options_labels": [
        "status_group",
        "funder",
        "installer",
        "basin",
        "region",
        "quantity",
        "public_meeting",
        "scheme_management",
        "permit",
        "construction_year",
        "extraction_type_class",
        "management",
        "payment_type",
        "water_quality",
        "quantity",
        "source_type",
        "waterpoint_type"
       ],
       "_view_module_version": "~2.1.4",
       "description": "Task:",
       "layout": "IPY_MODEL_8445b5f011424997a201e1526fb6fe22",
       "value": "source_type"
      }
     },
     "9357d658bf76475bb2311e6ad8dd9410": {
      "model_module": "jupyter-js-widgets",
      "model_module_version": "~2.1.4",
      "model_name": "LayoutModel",
      "state": {
       "_model_module_version": "~2.1.4",
       "_view_module_version": "~2.1.4"
      }
     },
     "9b91272b6b1548579ae6a77f8bdbe352": {
      "model_module": "jupyter-js-widgets",
      "model_module_version": "~2.1.4",
      "model_name": "LayoutModel",
      "state": {
       "_model_module_version": "~2.1.4",
       "_view_module_version": "~2.1.4"
      }
     },
     "a4ae03104b5f42be81476092443b2a16": {
      "model_module": "jupyter-js-widgets",
      "model_module_version": "~2.1.4",
      "model_name": "LayoutModel",
      "state": {
       "_model_module_version": "~2.1.4",
       "_view_module_version": "~2.1.4"
      }
     },
     "a8be7748d6bf4391b25eeb2309bed3d6": {
      "model_module": "jupyter-js-widgets",
      "model_module_version": "~2.1.4",
      "model_name": "LayoutModel",
      "state": {
       "_model_module_version": "~2.1.4",
       "_view_module_version": "~2.1.4"
      }
     },
     "b31e37b7fd1b421ba3b65ca6e44d0311": {
      "model_module": "jupyter-js-widgets",
      "model_module_version": "~2.1.4",
      "model_name": "LayoutModel",
      "state": {
       "_model_module_version": "~2.1.4",
       "_view_module_version": "~2.1.4"
      }
     },
     "b8f04a7fcdbe4d569d0d82e0471e0440": {
      "model_module": "jupyter-js-widgets",
      "model_module_version": "~2.1.4",
      "model_name": "DropdownModel",
      "state": {
       "_model_module_version": "~2.1.4",
       "_options_labels": [
        "status_group",
        "funder",
        "installer",
        "basin",
        "region",
        "quantity",
        "public_meeting",
        "scheme_management",
        "permit",
        "construction_year",
        "extraction_type_class",
        "management",
        "payment_type",
        "water_quality",
        "quantity",
        "source_type",
        "waterpoint_type"
       ],
       "_view_module_version": "~2.1.4",
       "description": "Task:",
       "layout": "IPY_MODEL_c2c46868bd504b6c803f00e6752c8c05",
       "value": "payment_type"
      }
     },
     "be6f9f6b3c2745db8abe720228beffb8": {
      "model_module": "jupyter-js-widgets",
      "model_module_version": "~2.1.4",
      "model_name": "SelectModel",
      "state": {
       "_model_module_version": "~2.1.4",
       "_options_labels": [
        "status_group",
        "funder",
        "installer",
        "basin",
        "region",
        "public_meeting",
        "scheme_management",
        "permit",
        "construction_year",
        "extraction_type_class",
        "management",
        "payment_type",
        "water_quality",
        "quantity",
        "source_type",
        "waterpoint_type"
       ],
       "_view_module_version": "~2.1.4",
       "description": "Task:",
       "layout": "IPY_MODEL_a8be7748d6bf4391b25eeb2309bed3d6",
       "value": "construction_year"
      }
     },
     "c2c46868bd504b6c803f00e6752c8c05": {
      "model_module": "jupyter-js-widgets",
      "model_module_version": "~2.1.4",
      "model_name": "LayoutModel",
      "state": {
       "_model_module_version": "~2.1.4",
       "_view_module_version": "~2.1.4"
      }
     },
     "e0b19ef4b2ed41ff8b44cf41c209fac5": {
      "model_module": "jupyter-js-widgets",
      "model_module_version": "~2.1.4",
      "model_name": "DropdownModel",
      "state": {
       "_model_module_version": "~2.1.4",
       "_options_labels": [
        "status_group",
        "funder",
        "installer",
        "basin",
        "region",
        "quantity",
        "public_meeting",
        "scheme_management",
        "permit",
        "construction_year",
        "extraction_type_class",
        "management",
        "payment_type",
        "water_quality",
        "quantity",
        "source_type",
        "waterpoint_type"
       ],
       "_view_module_version": "~2.1.4",
       "description": "Task:",
       "layout": "IPY_MODEL_5bd225e174a74b5cad197f27d10e9aa4",
       "value": "quantity"
      }
     },
     "f45936b9f3614d289af1f508fbc4b9ec": {
      "model_module": "jupyter-js-widgets",
      "model_module_version": "~2.1.4",
      "model_name": "DropdownModel",
      "state": {
       "_model_module_version": "~2.1.4",
       "_options_labels": [
        "status_group",
        "funder",
        "installer",
        "basin",
        "region",
        "quantity",
        "public_meeting",
        "scheme_management",
        "permit",
        "construction_year",
        "extraction_type_class",
        "management",
        "payment_type",
        "water_quality",
        "quantity",
        "source_type",
        "waterpoint_type"
       ],
       "_view_module_version": "~2.1.4",
       "description": "Task:",
       "layout": "IPY_MODEL_a4ae03104b5f42be81476092443b2a16",
       "value": "quantity"
      }
     },
     "fb3eba913a024f6b99c032127969c3ac": {
      "model_module": "jupyter-js-widgets",
      "model_module_version": "~2.1.4",
      "model_name": "LayoutModel",
      "state": {
       "_model_module_version": "~2.1.4",
       "_view_module_version": "~2.1.4"
      }
     },
     "fbb9715abb8d4e5c96dd4030460455a1": {
      "model_module": "jupyter-js-widgets",
      "model_module_version": "~2.1.4",
      "model_name": "DropdownModel",
      "state": {
       "_model_module_version": "~2.1.4",
       "_options_labels": [
        "status_group",
        "funder",
        "installer",
        "basin",
        "region",
        "quantity",
        "public_meeting",
        "scheme_management",
        "permit",
        "construction_year",
        "extraction_type_class",
        "management",
        "payment_type",
        "water_quality",
        "quantity",
        "source_type",
        "waterpoint_type"
       ],
       "_view_module_version": "~2.1.4",
       "description": "Task:",
       "layout": "IPY_MODEL_0e6d108eb1a84a079a67fdaca0cfd11a",
       "value": "management"
      }
     }
    },
    "version_major": 1,
    "version_minor": 0
   }
  }
 },
 "nbformat": 4,
 "nbformat_minor": 2
}
